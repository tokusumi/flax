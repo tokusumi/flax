{
  "nbformat": 4,
  "nbformat_minor": 0,
  "metadata": {
    "colab": {
      "name": "Flax basics.ipynb",
      "provenance": [],
      "toc_visible": true
    },
    "kernelspec": {
      "display_name": "Python 3",
      "name": "python3"
    }
  },
  "cells": [
    {
      "source": [
        "# Flax Basics\n",
        "\n",
        "This notebook will walk you through the following workflow:\n",
        "\n",
        "*   Instantiating a model from Flax built-in layers or third-party models.\n",
        "*   Initializing parameters of the model and manually written training.\n",
        "*   Using optimizers provided by Flax to ease training.\n",
        "*   Serialization of parameters and other objects.\n",
        "*   Creating your own models and managing state."
      ],
      "cell_type": "markdown",
      "metadata": {}
    },
    {
      "cell_type": "markdown",
      "metadata": {
        "id": "KyANAaZtbs86"
      },
      "source": [
        "## Setting up our environment\n",
        "\n",
        "Here we provide the code needed to set up the environment for our notebook."
      ]
    },
    {
      "cell_type": "code",
      "metadata": {
        "id": "qdrEVv9tinJn",
        "outputId": "da197a11-3ede-47f9-f2a7-9f5beeb8b46e",
        "colab": {
          "base_uri": "https://localhost:8080/"
        }
      },
      "source": [
        "# Install the latest JAXlib version.\n",
        "!pip install --upgrade -q pip jax jaxlib\n",
        "# Install Flax at head:\n",
        "!pip install --upgrade -q git+https://github.com/google/flax.git"
      ],
      "execution_count": 1,
      "outputs": []
    },
    {
      "cell_type": "code",
      "metadata": {
        "id": "kN6bZDaReZO2"
      },
      "source": [
        "import jax\n",
        "from typing import Any, Callable, Sequence, Optional\n",
        "from jax import lax, random, numpy as jnp\n",
        "import flax\n",
        "from flax.core import freeze, unfreeze\n",
        "from flax import linen as nn\n",
        "\n",
        "from jax.config import config\n",
        "config.enable_omnistaging() # Linen requires enabling omnistaging"
      ],
      "execution_count": 2,
      "outputs": []
    },
    {
      "cell_type": "markdown",
      "metadata": {
        "id": "pCCwAbOLiscA"
      },
      "source": [
        "## Linear regression with Flax\n",
        "\n",
        "In the previous *JAX for the impatient* notebook, we finished up with a linear regression example. As we know, linear regression can also be written as a single dense neural network layer, which we will show in the following so that we can compare how it's done.\n",
        "\n",
        "A dense layer is a layer that has a kernel parameter $W\\in\\mathcal{M}_{m,n}(\\mathbb{R})$ where $m$ is the number of features as an output of the model, and $n$ the dimensionality of the input, and a bias parameter $b\\in\\mathbb{R}^m$. The dense layers returns $Wx+b$ from an input $x\\in\\mathbb{R}^n$.\n",
        "\n",
        "This dense layer is already provided by Flax in the `flax.linen` module (here imported as `nn`)."
      ]
    },
    {
      "cell_type": "code",
      "metadata": {
        "id": "zWX2zEtphT4Y"
      },
      "source": [
        "# We create one dense layer instance (taking 'features' parameter as input)\n",
        "model = nn.Dense(features=5)"
      ],
      "execution_count": 3,
      "outputs": []
    },
    {
      "cell_type": "markdown",
      "metadata": {
        "id": "UmzP1QoQYAAN"
      },
      "source": [
        "Layers (and models in general, we'll use that word from now on) are subclasses of the `linen.Module` class.\n",
        "\n",
        "### Model parameters & initialization\n",
        "\n",
        "Parameters are not stored with the models themselves. You need to initialize parameters by calling the `init` function, using a PRNGKey and a dummy input parameter."
      ]
    },
    {
      "cell_type": "code",
      "metadata": {
        "id": "K529lhzeYtl8",
        "outputId": "8dbffc5d-7768-4c92-f843-a73a6c35fc24",
        "colab": {
          "base_uri": "https://localhost:8080/"
        }
      },
      "source": [
        "key1, key2 = random.split(random.PRNGKey(0))\n",
        "x = random.normal(key1, (10,)) # Dummy input\n",
        "params = model.init(key2, x) # Initialization call\n",
        "jax.tree_map(lambda x: x.shape, params) # Checking output shapes"
      ],
      "execution_count": 4,
      "outputs": [
        {
          "output_type": "stream",
          "name": "stderr",
          "text": [
            "WARNING:absl:No GPU/TPU found, falling back to CPU. (Set TF_CPP_MIN_LOG_LEVEL=0 and rerun for more info.)\n"
          ]
        },
        {
          "output_type": "execute_result",
          "data": {
            "text/plain": [
              "FrozenDict({'params': {'bias': (5,), 'kernel': (10, 5)}})"
            ]
          },
          "metadata": {},
          "execution_count": 4
        }
      ]
    },
    {
      "cell_type": "markdown",
      "metadata": {
        "id": "NH7Y9xMEewmO"
      },
      "source": [
        "*Note: JAX and Flax, like NumPy, are row-based systems, meaning that vectors are represented as row vectors and not column vectors. This can be seen in the shape of the kernel here.*\n",
        "\n",
        "The result is what we expect: bias and kernel parameters of the correct size. Under the hood:\n",
        "\n",
        "*   The dummy input variable `x` is used to trigger shape inference: we only declared the number of features we wanted in the output of the model, not the size of the input. Flax finds out by itself the correct size of the kernel.\n",
        "*   The random PRNG key is used to trigger the initialization functions (those have default values provided by the module here).\n",
        "* Initialization functions are called to generate the initial set of parameters that the model will use. Those are functions that take as arguments `(PRNG Key, shape, dtype)` and return an Array of shape `shape`.\n",
        "* The init function returns the initialized set of parameters (you can also get the output of the evaluation on the dummy input with the same syntax but using the `init_with_output` method instead of `init`."
      ]
    },
    {
      "source": [
        "We see in the output that parameters are stored in a `FrozenDict` instance which helps deal with the functional nature of JAX by preventing any mutation of the underlying dict and making the user aware of it. Read more about it in the Flax docs. As a consequence, the following doesn't work:\n"
      ],
      "cell_type": "markdown",
      "metadata": {}
    },
    {
      "cell_type": "code",
      "execution_count": 5,
      "metadata": {},
      "outputs": [
        {
          "output_type": "stream",
          "name": "stdout",
          "text": [
            "Error:  FrozenDict is immutable.\n"
          ]
        }
      ],
      "source": [
        "try:\n",
        "    params['new_key'] = jnp.ones((2,2))\n",
        "except ValueError as e:\n",
        "    print(\"Error: \", e)"
      ]
    },
    {
      "source": [
        "To evaluate the model with a given set of parameters (never stored with the model), we just use the `apply` method by providing it the parameters to use as well as the input:"
      ],
      "cell_type": "markdown",
      "metadata": {}
    },
    {
      "cell_type": "code",
      "metadata": {
        "id": "J8ietJecWiuK",
        "outputId": "972d0c12-741a-47e8-8558-c2e70aedda0d",
        "colab": {
          "base_uri": "https://localhost:8080/"
        }
      },
      "source": [
        "model.apply(params, x)"
      ],
      "execution_count": 6,
      "outputs": [
        {
          "output_type": "execute_result",
          "data": {
            "text/plain": [
              "DeviceArray([-0.7358944,  1.3583755, -0.7976871,  0.8168598,  0.6297793],            dtype=float32)"
            ]
          },
          "metadata": {},
          "execution_count": 6
        }
      ]
    },
    {
      "cell_type": "markdown",
      "metadata": {
        "id": "lVsjgYzuSBGL"
      },
      "source": [
        "### Gradient descent\n",
        "\n",
        "If you jumped here directly without going through the JAX part, here is the linear regression formulation we're going to use: from a set of data points $\\{(x_i,y_i), i\\in \\{1,\\ldots, k\\}, x_i\\in\\mathbb{R}^n,y_i\\in\\mathbb{R}^m\\}$, we try to find a set of parameters $W\\in \\mathcal{M}_{m,n}(\\mathbb{R}), b\\in\\mathbb{R}^m$ such that the function $f_{W,b}(x)=Wx+b$ minimizes the mean squared error:\n",
        "$$\\mathcal{L}(W,b)\\rightarrow\\frac{1}{k}\\sum_{i=1}^{k} \\frac{1}{2}\\|y_i-f_{W,b}(x_i)\\|^2_2$$\n",
        "\n",
        "Here, we see that the tuple $(W,b)$ matches the parameters of the Dense layer. We'll perform gradient descent using those. Let's first generate the fake data we'll use.\n"
      ]
    },
    {
      "cell_type": "code",
      "metadata": {
        "id": "bFIiMnL4dl-e",
        "outputId": "9f67796e-98be-4b09-f989-c2e193ed426c",
        "colab": {
          "base_uri": "https://localhost:8080/"
        }
      },
      "source": [
        "# Set problem dimensions\n",
        "nsamples = 20\n",
        "xdim = 10\n",
        "ydim = 5\n",
        "\n",
        "# Generate random ground truth W and b\n",
        "key = random.PRNGKey(0)\n",
        "k1, k2 = random.split(key)\n",
        "W = random.normal(k1, (xdim, ydim))\n",
        "b = random.normal(k2, (ydim,))\n",
        "true_params = freeze({'params': {'bias': b, 'kernel': W}})\n",
        "\n",
        "# Generate samples with additional noise\n",
        "ksample, knoise = random.split(k1)\n",
        "x_samples = random.normal(ksample, (nsamples, xdim))\n",
        "y_samples = jnp.dot(x,W) + b \n",
        "y_samples += 0.1*random.normal(knoise,(nsamples, ydim)) # Adding noise\n",
        "print('x shape:', x_samples.shape, '; y shape:', y_samples.shape)"
      ],
      "execution_count": 7,
      "outputs": [
        {
          "output_type": "stream",
          "name": "stdout",
          "text": [
            "x shape: (20, 10) ; y shape: (20, 5)\n"
          ]
        }
      ]
    },
    {
      "cell_type": "markdown",
      "metadata": {
        "id": "ZHkioicCiUbx"
      },
      "source": [
        "Now let's generate the loss function (mean squared error) with that data."
      ]
    },
    {
      "cell_type": "code",
      "metadata": {
        "id": "JqJaVc7BeNyT"
      },
      "source": [
        "def make_mse_func(x_batched, y_batched):\n",
        "  def mse(params):\n",
        "    # Define the squared loss for a single pair (x,y)\n",
        "    def squared_error(x, y):\n",
        "      pred = model.apply(params, x)\n",
        "      return jnp.inner(y-pred, y-pred)/2.0\n",
        "    # We vectorize the previous to compute the average of the loss on all samples.\n",
        "    return jnp.mean(jax.vmap(squared_error)(x_batched,y_batched), axis=0)\n",
        "  return jax.jit(mse) # And finally we jit the result.\n",
        "\n",
        "# Get the sampled loss\n",
        "loss = make_mse_func(x_samples, y_samples)"
      ],
      "execution_count": 8,
      "outputs": []
    },
    {
      "cell_type": "markdown",
      "metadata": {
        "id": "wGKru__mi15v"
      },
      "source": [
        "And finally perform the gradient descent."
      ]
    },
    {
      "cell_type": "code",
      "metadata": {
        "id": "ePEl1ndse0Jq",
        "outputId": "d90deb86-1541-4c96-c7b4-a0bf29e62aa5",
        "colab": {
          "base_uri": "https://localhost:8080/"
        }
      },
      "source": [
        "alpha = 0.3 # Gradient step size\n",
        "print('Loss for \"true\" W,b: ', loss(true_params))\n",
        "grad_fn = jax.value_and_grad(loss)\n",
        "\n",
        "for i in range(101):\n",
        "  # We perform one gradient update\n",
        "  loss_val, grad = grad_fn(params)\n",
        "  params = jax.tree_multimap(lambda old, grad: old - alpha * grad,\n",
        "                            params, grad)\n",
        "  if i % 10 == 0:\n",
        "    print('Loss step {}: '.format(i), loss_val)"
      ],
      "execution_count": 9,
      "outputs": [
        {
          "output_type": "stream",
          "name": "stdout",
          "text": [
            "Loss for \"true\" W,b:  29.070158\n",
            "Loss step 0:  23.618902\n",
            "Loss step 10:  0.30728564\n",
            "Loss step 20:  0.06495677\n",
            "Loss step 30:  0.025215296\n",
            "Loss step 40:  0.015619493\n",
            "Loss step 50:  0.012849321\n",
            "Loss step 60:  0.011984843\n",
            "Loss step 70:  0.011705536\n",
            "Loss step 80:  0.011613827\n",
            "Loss step 90:  0.011583473\n",
            "Loss step 100:  0.011573391\n"
          ]
        }
      ]
    },
    {
      "cell_type": "markdown",
      "metadata": {
        "id": "zqEnJ9Poyb6q"
      },
      "source": [
        "### Build-in optimization API\n",
        "\n",
        "Flax provides an optimization package in `flax.optim` to make your life easier when training models. The process is:\n",
        "\n",
        "1.   You choose an optimization method (e.g. `optim.GradientDescent`, `optim.Adam`)\n",
        "2.   From the previous optimization method, you create a wrapper around the parameters you're going to optimize for with the `create` method. Your parameters are accessible through the `target` field.\n",
        "3. You compute the gradients of your loss with `jax.value_and_grad()`.\n",
        "4. At every iteration, you compute the gradients at the current point, then use the `apply_gradient()` method on the optimizer to return a new optimizer with updated parameters.\n",
        "\n"
      ]
    },
    {
      "cell_type": "code",
      "metadata": {
        "id": "Ce77uDJx1bUF"
      },
      "source": [
        "from flax import optim\n",
        "optimizer_def = optim.GradientDescent(learning_rate=alpha) # Choose the method\n",
        "optimizer = optimizer_def.create(params) # Create the wrapping optimizer with initial parameters\n",
        "loss_grad_fn = jax.value_and_grad(loss)"
      ],
      "execution_count": 10,
      "outputs": []
    },
    {
      "cell_type": "code",
      "metadata": {
        "id": "PTSv0vx13xPO",
        "outputId": "e51f7e15-851b-4fef-b994-8c874d4a5645",
        "colab": {
          "base_uri": "https://localhost:8080/"
        }
      },
      "source": [
        "for i in range(101):\n",
        "  loss_val, grad = loss_grad_fn(optimizer.target)\n",
        "  optimizer = optimizer.apply_gradient(grad) # Return the updated optimizer with parameters.\n",
        "  if i % 10 == 0:\n",
        "    print('Loss step {}: '.format(i), loss_val)"
      ],
      "execution_count": 11,
      "outputs": [
        {
          "output_type": "stream",
          "name": "stdout",
          "text": [
            "Loss step 0:  0.011572863\n",
            "Loss step 10:  0.011569859\n",
            "Loss step 20:  0.011568859\n",
            "Loss step 30:  0.011568523\n",
            "Loss step 40:  0.011568412\n",
            "Loss step 50:  0.011568374\n",
            "Loss step 60:  0.011568364\n",
            "Loss step 70:  0.011568359\n",
            "Loss step 80:  0.01156836\n",
            "Loss step 90:  0.011568356\n",
            "Loss step 100:  0.011568357\n"
          ]
        }
      ]
    },
    {
      "cell_type": "markdown",
      "metadata": {
        "id": "0eAPPwtpXYu7"
      },
      "source": [
        "### Serializing the result\n",
        "\n",
        "Now that we're happy with the result of our training, we might want to save the model parameters to load them back later. Flax provides a serialization package to enable you to do that."
      ]
    },
    {
      "cell_type": "code",
      "metadata": {
        "id": "BiUPRU93XnAZ",
        "outputId": "7dd6f749-d552-4356-c2d2-c793d12e41de",
        "colab": {
          "base_uri": "https://localhost:8080/"
        }
      },
      "source": [
        "from flax import serialization\n",
        "bytes_output = serialization.to_bytes(optimizer.target)\n",
        "dict_output = serialization.to_state_dict(optimizer.target)\n",
        "print('Dict output')\n",
        "print(dict_output)\n",
        "print('Bytes output')\n",
        "print(bytes_output)"
      ],
      "execution_count": 12,
      "outputs": [
        {
          "output_type": "stream",
          "name": "stdout",
          "text": [
            "Dict output\n{'params': {'bias': DeviceArray([-3.023082 ,  0.5307182,  3.7256303,  1.4638226, -3.2100437],            dtype=float32), 'kernel': DeviceArray([[-1.4092493e-02,  4.8609809e-03,  1.1460093e-02,\n              -6.0927689e-02,  2.0413438e-05],\n             [-3.3569761e-02, -1.5614161e-03,  4.3190460e-04,\n              -7.9035060e-03, -1.9851506e-02],\n             [-1.8882388e-02, -2.1366426e-03, -1.8663550e-02,\n              -3.0001188e-02,  5.1880259e-02],\n             [-4.8119370e-02, -2.9280247e-02, -1.1992223e-02,\n              -1.0111435e-02, -8.3459895e-03],\n             [-1.7368369e-02, -1.7084973e-02,  6.0279824e-02,\n               9.2046618e-02, -1.5414236e-02],\n             [-3.0089449e-02, -5.5370983e-03, -9.1237156e-03,\n               2.1827107e-02, -2.0405082e-02],\n             [-5.6748122e-02, -4.2654604e-02, -1.1436724e-02,\n               7.5801805e-02, -2.0075133e-02],\n             [-1.4368590e-03, -1.6048675e-02,  1.5781123e-02,\n               2.8437756e-03, -8.5009886e-03],\n             [ 1.7892396e-02,  5.7572998e-02,  4.1483097e-02,\n              -9.9685444e-03, -2.1875760e-02],\n             [-2.1158390e-02, -1.3853005e-02,  2.5077526e-02,\n               3.2925244e-02,  3.8115401e-02]], dtype=float32)}}\nBytes output\nb'\\x81\\xa6params\\x82\\xa4bias\\xc7!\\x01\\x93\\x91\\x05\\xa7float32\\xc4\\x14-zA\\xc0&\\xdd\\x07?\\xbapn@\\x8a^\\xbb?[qM\\xc0\\xa6kernel\\xc7\\xd6\\x01\\x93\\x92\\n\\x05\\xa7float32\\xc4\\xc83\\xe4f\\xbc\\xddH\\x9f;\\x1d\\xc3;<P\\x8fy\\xbd\\x86=\\xab7r\\x80\\t\\xbdn\\xa8\\xcc\\xbaAq\\xe29\\xb5}\\x01\\xbc\\xa0\\x9f\\xa2\\xbc=\\xaf\\x9a\\xbc\\xea\\x06\\x0c\\xbbM\\xe4\\x98\\xbc\\r\\xc5\\xf5\\xbce\\x80T=\\xd1\\x18E\\xbd!\\xdd\\xef\\xbc\\x07{D\\xbco\\xaa%\\xbc\\x9e\\xbd\\x08\\xbc\\x1cH\\x8e\\xbc\\xc9\\xf5\\x8b\\xbc\\xfa\\xe7v=\\xf0\\x82\\xbc=\\xfe\\x8b|\\xbc&~\\xf6\\xbc\\x8cp\\xb5\\xbb\\xa3{\\x15\\xbc\\xc3\\xce\\xb2<\\x8f(\\xa7\\xbc\\xb8ph\\xbd\\x98\\xb6.\\xbd\\x19a;\\xbc\\xfa=\\x9b=\\x9bt\\xa4\\xbc\\xfdT\\xbc\\xba\\x83x\\x83\\xbcjG\\x81<\\xa3^:;\\xbbG\\x0b\\xbc\\x13\\x93\\x92<\\xaa\\xd1k=.\\xea)=\\x1bS#\\xbc\\xcb4\\xb3\\xbc\\\\T\\xad\\xbc\\xb7\\xf7b\\xbcbo\\xcd<\\x9f\\xdc\\x06=\\xe5\\x1e\\x1c='\n"
          ]
        }
      ]
    },
    {
      "cell_type": "markdown",
      "metadata": {
        "id": "eielPo2KZByd"
      },
      "source": [
        "To load the model back, you'll need to use as a template the model parameter structure, like the one you would get from the model initialization. Here, we use the previously generated `params` as a template. Note that this will produce a new variable structure, and not mutate in-place.\n",
        "\n",
        "*The point of enforcing structure through template is to avoid users issues downstream, so you need to first have the right model that generates the parameters structure.*"
      ]
    },
    {
      "cell_type": "code",
      "metadata": {
        "id": "MOhoBDCOYYJ5",
        "outputId": "a8234ba8-989e-46a8-c728-c5970c6abe3e",
        "colab": {
          "base_uri": "https://localhost:8080/"
        }
      },
      "source": [
        "serialization.from_bytes(params, bytes_output)"
      ],
      "execution_count": 13,
      "outputs": [
        {
          "output_type": "execute_result",
          "data": {
            "text/plain": [
              "FrozenDict({'params': {'bias': array([-3.023082 ,  0.5307182,  3.7256303,  1.4638226, -3.2100437],\n",
              "      dtype=float32), 'kernel': array([[-1.4092493e-02,  4.8609809e-03,  1.1460093e-02, -6.0927689e-02,\n",
              "         2.0413438e-05],\n",
              "       [-3.3569761e-02, -1.5614161e-03,  4.3190460e-04, -7.9035060e-03,\n",
              "        -1.9851506e-02],\n",
              "       [-1.8882388e-02, -2.1366426e-03, -1.8663550e-02, -3.0001188e-02,\n",
              "         5.1880259e-02],\n",
              "       [-4.8119370e-02, -2.9280247e-02, -1.1992223e-02, -1.0111435e-02,\n",
              "        -8.3459895e-03],\n",
              "       [-1.7368369e-02, -1.7084973e-02,  6.0279824e-02,  9.2046618e-02,\n",
              "        -1.5414236e-02],\n",
              "       [-3.0089449e-02, -5.5370983e-03, -9.1237156e-03,  2.1827107e-02,\n",
              "        -2.0405082e-02],\n",
              "       [-5.6748122e-02, -4.2654604e-02, -1.1436724e-02,  7.5801805e-02,\n",
              "        -2.0075133e-02],\n",
              "       [-1.4368590e-03, -1.6048675e-02,  1.5781123e-02,  2.8437756e-03,\n",
              "        -8.5009886e-03],\n",
              "       [ 1.7892396e-02,  5.7572998e-02,  4.1483097e-02, -9.9685444e-03,\n",
              "        -2.1875760e-02],\n",
              "       [-2.1158390e-02, -1.3853005e-02,  2.5077526e-02,  3.2925244e-02,\n",
              "         3.8115401e-02]], dtype=float32)}})"
            ]
          },
          "metadata": {},
          "execution_count": 13
        }
      ]
    },
    {
      "source": [
        "The serialization utils provided by Flax work on objects beyond parameters, for example you might want to serialize the optimizer and it's states, which we show in the following cell:"
      ],
      "cell_type": "markdown",
      "metadata": {}
    },
    {
      "cell_type": "code",
      "execution_count": 14,
      "metadata": {},
      "outputs": [
        {
          "output_type": "execute_result",
          "data": {
            "text/plain": [
              "{'target': {'params': {'bias': DeviceArray([-3.023082 ,  0.5307182,  3.7256303,  1.4638226, -3.2100437],            dtype=float32),\n",
              "   'kernel': DeviceArray([[-1.4092493e-02,  4.8609809e-03,  1.1460093e-02,\n",
              "                 -6.0927689e-02,  2.0413438e-05],\n",
              "                [-3.3569761e-02, -1.5614161e-03,  4.3190460e-04,\n",
              "                 -7.9035060e-03, -1.9851506e-02],\n",
              "                [-1.8882388e-02, -2.1366426e-03, -1.8663550e-02,\n",
              "                 -3.0001188e-02,  5.1880259e-02],\n",
              "                [-4.8119370e-02, -2.9280247e-02, -1.1992223e-02,\n",
              "                 -1.0111435e-02, -8.3459895e-03],\n",
              "                [-1.7368369e-02, -1.7084973e-02,  6.0279824e-02,\n",
              "                  9.2046618e-02, -1.5414236e-02],\n",
              "                [-3.0089449e-02, -5.5370983e-03, -9.1237156e-03,\n",
              "                  2.1827107e-02, -2.0405082e-02],\n",
              "                [-5.6748122e-02, -4.2654604e-02, -1.1436724e-02,\n",
              "                  7.5801805e-02, -2.0075133e-02],\n",
              "                [-1.4368590e-03, -1.6048675e-02,  1.5781123e-02,\n",
              "                  2.8437756e-03, -8.5009886e-03],\n",
              "                [ 1.7892396e-02,  5.7572998e-02,  4.1483097e-02,\n",
              "                 -9.9685444e-03, -2.1875760e-02],\n",
              "                [-2.1158390e-02, -1.3853005e-02,  2.5077526e-02,\n",
              "                  3.2925244e-02,  3.8115401e-02]], dtype=float32)}},\n",
              " 'state': {'step': DeviceArray(101, dtype=int32),\n",
              "  'param_states': {'params': {'bias': {}, 'kernel': {}}}}}"
            ]
          },
          "metadata": {},
          "execution_count": 14
        }
      ],
      "source": [
        "serialization.to_state_dict(optimizer)"
      ]
    },
    {
      "cell_type": "markdown",
      "metadata": {
        "id": "8mNu8nuOhDC5"
      },
      "source": [
        "## Defining your own models\n",
        "\n",
        "Flax allows you to define your own models, which should be a bit more complicated than a linear regression. In this section, we'll show you how to build simple models. To do so, you'll need to create subclasses of the base `nn.Module` class.\n",
        "\n",
        "*Keep in mind that we imported* `linen as nn` *and this only works with the new linen API*"
      ]
    },
    {
      "cell_type": "markdown",
      "metadata": {
        "id": "1sllHAdRlpmQ"
      },
      "source": [
        "### Module basics\n",
        "\n",
        "The base abstraction for models is the `nn.Module` class, and every type of predefined layers in Flax (like the previous `Dense`) is a subclass of `nn.Module`. Let's take a look and start by defining a simple but custom multi-layer perceptron i.e. a sequence of Dense layers interleaved with calls to a non-linear activation function."
      ]
    },
    {
      "cell_type": "code",
      "metadata": {
        "id": "vbfrfbkxgPhg",
        "outputId": "b2b515d1-44cf-4bd0-ce52-01e37612abde",
        "colab": {
          "base_uri": "https://localhost:8080/"
        }
      },
      "source": [
        "class ExplicitMLP(nn.Module):\n",
        "  features: Sequence[int]\n",
        "\n",
        "  def setup(self):\n",
        "    # we automatically know what to do with lists, dicts of submodules\n",
        "    self.layers = [nn.Dense(feat) for feat in self.features]\n",
        "    # for single submodules, we would just write:\n",
        "    # self.layer1 = nn.Dense(self, feat1)\n",
        "\n",
        "  def __call__(self, inputs):\n",
        "    x = inputs\n",
        "    for i, lyr in enumerate(self.layers):\n",
        "      x = lyr(x)\n",
        "      if i != len(self.layers) - 1:\n",
        "        x = nn.relu(x)\n",
        "    return x\n",
        "\n",
        "key1, key2 = random.split(random.PRNGKey(0), 2)\n",
        "x = random.uniform(key1, (4,4))\n",
        "\n",
        "model = ExplicitMLP(features=[3,4,5])\n",
        "params = model.init(key2, x)\n",
        "y = model.apply(params, x)\n",
        "\n",
        "print('initialized parameter shapes:\\n', jax.tree_map(jnp.shape, unfreeze(params)))\n",
        "print('output:\\n', y)"
      ],
      "execution_count": 15,
      "outputs": [
        {
          "output_type": "stream",
          "name": "stdout",
          "text": [
            "initialized parameter shapes:\n {'params': {'layers_0': {'bias': (3,), 'kernel': (4, 3)}, 'layers_1': {'bias': (4,), 'kernel': (3, 4)}, 'layers_2': {'bias': (5,), 'kernel': (4, 5)}}}\noutput:\n [[ 4.2292822e-02 -4.3807123e-02  2.9323796e-02  6.5492545e-03\n  -1.7147183e-02]\n [ 1.2967804e-01 -1.4551792e-01  9.4432175e-02  1.2521386e-02\n  -4.5417294e-02]\n [ 0.0000000e+00  0.0000000e+00  0.0000000e+00  0.0000000e+00\n   0.0000000e+00]\n [ 9.3024032e-04  2.7864395e-05  2.4478821e-04  8.1344310e-04\n  -1.0110770e-03]]\n"
          ]
        }
      ]
    },
    {
      "cell_type": "markdown",
      "metadata": {
        "id": "DDITIjXitEZl"
      },
      "source": [
        "As we can see, a `nn.Module` subclass is made of:\n",
        "\n",
        "*   A collection of data fields (`nn.Module` are Python dataclasses) - here we only have the `features` field of type `Sequence[int]`.\n",
        "*   A `setup()` method that is being called at the end of the `__postinit__` where you can register submodules, variables, parameters you will need in your model.\n",
        "*   A `__call__` function that returns the output of the model from a given input.\n",
        "*   The model structure defines a pytree of parameters following the same tree structure as the model: the params tree contains one `layers_n` sub dict per layer, and each of those contain the parameters of the associated Dense layer. The layout is very explicit.\n",
        "\n",
        "*Note: lists are mostly managed as you would expect (WIP), there are corner cases you should be aware of as pointed out* <em><a class=\"reference external\" href=\"https://github.com/google/flax/issues/524\">here</a></em>\n",
        "\n",
        "Since the module structure and its parameters are not tied to each other, you can't call directly `model(x)` on a given input as it will return an error. The `__call__` function is being wrapped up in the `apply` one, which is the one to call on an input:"
      ]
    },
    {
      "cell_type": "code",
      "execution_count": 16,
      "metadata": {},
      "outputs": [
        {
          "output_type": "stream",
          "name": "stdout",
          "text": [
            "Can't call methods on orphaned modules\n"
          ]
        }
      ],
      "source": [
        "try:\n",
        "    y = model(x) # Returns an error\n",
        "except ValueError as e:\n",
        "    print(e)"
      ]
    },
    {
      "source": [
        "Since here we have a very simple model, we could have used an alternative (but equivalent) way of declaring the submodules inline in the `__call__` using the `@nn.compact` annotation like so:"
      ],
      "cell_type": "markdown",
      "metadata": {}
    },
    {
      "cell_type": "code",
      "metadata": {
        "id": "ZTCbdpQ4suSK",
        "outputId": "a92c9628-6fbf-4155-a447-b74be9a91f5d",
        "colab": {
          "base_uri": "https://localhost:8080/"
        }
      },
      "source": [
        "class SimpleMLP(nn.Module):\n",
        "  features: Sequence[int]\n",
        "\n",
        "  @nn.compact\n",
        "  def __call__(self, inputs):\n",
        "    x = inputs\n",
        "    for i, feat in enumerate(self.features):\n",
        "      x = nn.Dense(feat, name=f'layers_{i}')(x)\n",
        "      if i != len(self.features) - 1:\n",
        "        x = nn.relu(x)\n",
        "      # providing a name is optional though!\n",
        "      # the default autonames would be \"Dense_0\", \"Dense_1\", ...\n",
        "    return x\n",
        "\n",
        "key1, key2 = random.split(random.PRNGKey(0), 2)\n",
        "x = random.uniform(key1, (4,4))\n",
        "\n",
        "model = SimpleMLP(features=[3,4,5])\n",
        "params = model.init(key2, x)\n",
        "y = model.apply(params, x)\n",
        "\n",
        "print('initialized parameter shapes:\\n', jax.tree_map(jnp.shape, unfreeze(params)))\n",
        "print('output:\\n', y)"
      ],
      "execution_count": 17,
      "outputs": [
        {
          "output_type": "stream",
          "name": "stdout",
          "text": [
            "initialized parameter shapes:\n {'params': {'layers_0': {'bias': (3,), 'kernel': (4, 3)}, 'layers_1': {'bias': (4,), 'kernel': (3, 4)}, 'layers_2': {'bias': (5,), 'kernel': (4, 5)}}}\noutput:\n [[ 4.2292822e-02 -4.3807123e-02  2.9323796e-02  6.5492545e-03\n  -1.7147183e-02]\n [ 1.2967804e-01 -1.4551792e-01  9.4432175e-02  1.2521386e-02\n  -4.5417294e-02]\n [ 0.0000000e+00  0.0000000e+00  0.0000000e+00  0.0000000e+00\n   0.0000000e+00]\n [ 9.3024032e-04  2.7864395e-05  2.4478821e-04  8.1344310e-04\n  -1.0110770e-03]]\n"
          ]
        }
      ]
    },
    {
      "cell_type": "markdown",
      "metadata": {
        "id": "es7YHjgexT-L"
      },
      "source": [
        "There are, however, a few differences you should be aware of between the two declaration modes:\n",
        "\n",
        "*   In `setup`, you are able to name some sublayers and keep them around for further use (e.g. encoder/decoder methods in autoencoders).\n",
        "*   If you want to have multiple methods, then you **need** to declare the module using `setup`, as the `@nn.compact` annotation only allows one method to be annotated.\n",
        "*   The last initialization will be handled differently see these notes for more details (TODO: add notes link)\n"
      ]
    },
    {
      "cell_type": "markdown",
      "metadata": {
        "id": "-ykceROJyp7W"
      },
      "source": [
        "### Module parameters\n",
        "\n",
        "In the previous MLP example, we relied only on predefined layers and operators (`Dense`, `relu`). Let's imagine that you didn't have a Dense layer provided by Flax and you wanted to write it on your own. Here is what it would look like using the `@nn.compact` way to declare a new modules:"
      ]
    },
    {
      "cell_type": "code",
      "metadata": {
        "id": "wK371Pt_vVfR",
        "outputId": "d570f6e5-9166-41ed-da09-4d380c9d94b6",
        "colab": {
          "base_uri": "https://localhost:8080/"
        }
      },
      "source": [
        "class SimpleDense(nn.Module):\n",
        "  features: int\n",
        "  kernel_init: Callable = nn.initializers.lecun_normal()\n",
        "  bias_init: Callable = nn.initializers.zeros\n",
        "\n",
        "  @nn.compact\n",
        "  def __call__(self, inputs):\n",
        "    kernel = self.param('kernel',\n",
        "                        self.kernel_init, # Initialization function\n",
        "                        (inputs.shape[-1], self.features))  # shape info.\n",
        "    y = lax.dot_general(inputs, kernel,\n",
        "                        (((inputs.ndim - 1,), (0,)), ((), ())),) # TODO Why not jnp.dot?\n",
        "    bias = self.param('bias', self.bias_init, (self.features,))\n",
        "    y = y + bias\n",
        "    return y\n",
        "\n",
        "key1, key2 = random.split(random.PRNGKey(0), 2)\n",
        "x = random.uniform(key1, (4,4))\n",
        "\n",
        "model = SimpleDense(features=3)\n",
        "params = model.init(key2, x)\n",
        "y = model.apply(params, x)\n",
        "\n",
        "print('initialized parameters:\\n', params)\n",
        "print('output:\\n', y)"
      ],
      "execution_count": 18,
      "outputs": [
        {
          "output_type": "stream",
          "name": "stdout",
          "text": [
            "initialized parameters:\n FrozenDict({'params': {'kernel': DeviceArray([[ 0.6503669 ,  0.8678979 ,  0.46042678],\n             [ 0.05673932,  0.9909285 , -0.63536596],\n             [ 0.76134115, -0.3250529 , -0.6522163 ],\n             [-0.8243032 ,  0.4150194 ,  0.19405058]], dtype=float32), 'bias': DeviceArray([0., 0., 0.], dtype=float32)}})\noutput:\n [[ 0.50355184  1.8548559  -0.4270196 ]\n [ 0.02790972  0.5589246  -0.43061778]\n [ 0.35471287  1.5740999  -0.32865524]\n [ 0.52648634  1.2928859   0.10089307]]\n"
          ]
        }
      ]
    },
    {
      "cell_type": "markdown",
      "metadata": {
        "id": "MKyhfzVpzC94"
      },
      "source": [
        "Here, we see how both declare and assign a parameter to the model using the `self.param` method. It takes as input `(name, init_fn, *init_args)` : \n",
        "\n",
        "*   `name` is simply the name of the parameter that will end up in the parameter structure.\n",
        "*   `init_fun` is a function with input `(PRNGKey, *init_args)` returning an Array with `init_args` the arguments needed to call the initialisation function\n",
        "*   `init_args` the arguments to provide to the initialization function.\n",
        "\n",
        "Such params can also be declared in the `setup` method, it won't be able to use shape inference because Flax is using lazy initialization at the first call site."
      ]
    },
    {
      "cell_type": "markdown",
      "metadata": {
        "id": "QmSpxyqLDr58"
      },
      "source": [
        "### Variables and collections of variables\n",
        "\n",
        "As we've seen so far, working with models means working with:\n",
        "\n",
        "*   A subclass of `nn.Module`;\n",
        "*   A pytree of parameters for the model (typically from `model.init()`);\n",
        "\n",
        "However this is not enough to cover everything that we would need for machine learning, especially neural networks. In some cases, you might want your neural network to keep track of some internal state while it runs (e.g. batch normalization layers). There is a way to declare variables beyond the parameters of the model with the `variable` method.\n",
        "\n",
        "For demonstration purposes, we'll implement a simplified but similar mechanism to batch normalization: we'll store running averages and subtract those to the input at training time. For proper batchnorm, you should use (and look at) the implementation [here](https://github.com/google/flax/blob/master/flax/linen/normalization.py)."
      ]
    },
    {
      "cell_type": "code",
      "metadata": {
        "id": "J6_tR-nPzB1i",
        "outputId": "055f70aa-d295-4d87-ec25-fb40cfcfdc9c",
        "colab": {
          "base_uri": "https://localhost:8080/"
        }
      },
      "source": [
        "class BiasAdderWithRunningMean(nn.Module):\n",
        "  decay: float = 0.99\n",
        "\n",
        "  @nn.compact\n",
        "  def __call__(self, x):\n",
        "    # easy pattern to detect if we're initializing via empty variable tree\n",
        "    is_initialized = self.has_variable('batch_stats', 'mean')\n",
        "    ra_mean = self.variable('batch_stats', 'mean',\n",
        "                            lambda s: jnp.zeros(s),\n",
        "                            x.shape[1:])\n",
        "    mean = ra_mean.value # This will get either the value, or trigger init\n",
        "    bias = self.param('bias', lambda rng, shape: jnp.zeros(shape), x.shape[1:])\n",
        "    if is_initialized:\n",
        "      ra_mean.value = self.decay * ra_mean.value + (1.0 - self.decay) * jnp.mean(x, axis=0, keepdims=True)\n",
        "\n",
        "    return x - ra_mean.value + bias\n",
        "\n",
        "\n",
        "key1, key2 = random.split(random.PRNGKey(0), 2)\n",
        "x = jnp.ones((10,5))\n",
        "model = BiasAdderWithRunningMean()\n",
        "variables = model.init(key1, x)\n",
        "print('initialized variables:\\n', variables)\n",
        "y, updated_state = model.apply(variables, x, mutable=['batch_stats'])\n",
        "print('updated state:\\n', updated_state)"
      ],
      "execution_count": 19,
      "outputs": [
        {
          "output_type": "stream",
          "name": "stdout",
          "text": [
            "initialized variables:\n",
            " FrozenDict({'batch_stats': {'mean': DeviceArray([0., 0., 0., 0., 0.], dtype=float32)}, 'params': {'bias': DeviceArray([0., 0., 0., 0., 0.], dtype=float32)}})\n",
            "updated state:\n",
            " FrozenDict({'batch_stats': {'mean': DeviceArray([[0.01, 0.01, 0.01, 0.01, 0.01]], dtype=float32)}})\n"
          ]
        }
      ]
    },
    {
      "cell_type": "markdown",
      "metadata": {
        "id": "5OHBbMJng3ic"
      },
      "source": [
        "Here, `updated_state` returns only the state variables that are being mutated by the model while applying it on data. To update the variables and get the new parameters of the model, we can use the following pattern:"
      ]
    },
    {
      "cell_type": "code",
      "metadata": {
        "id": "IbTsCAvZcdBy",
        "outputId": "73662db9-694d-486b-c711-0d7b98d37360",
        "colab": {
          "base_uri": "https://localhost:8080/"
        }
      },
      "source": [
        "for val in [1.0, 2.0, 3.0]:\n",
        "  x = val * jnp.ones((10,5))\n",
        "  y, updated_state = model.apply(variables, x, mutable=['batch_stats'])\n",
        "  old_state, params = variables.pop('params')\n",
        "  variables = freeze({'params': params, **updated_state})\n",
        "  print('updated state:\\n', updated_state) # Shows only the mutable part"
      ],
      "execution_count": 20,
      "outputs": [
        {
          "output_type": "stream",
          "name": "stdout",
          "text": [
            "updated state:\n FrozenDict({'batch_stats': {'mean': DeviceArray([[0.01, 0.01, 0.01, 0.01, 0.01]], dtype=float32)}})\nupdated state:\n FrozenDict({'batch_stats': {'mean': DeviceArray([[0.0299, 0.0299, 0.0299, 0.0299, 0.0299]], dtype=float32)}})\nupdated state:\n FrozenDict({'batch_stats': {'mean': DeviceArray([[0.059601, 0.059601, 0.059601, 0.059601, 0.059601]], dtype=float32)}})\n"
          ]
        }
      ]
    },
    {
      "cell_type": "markdown",
      "metadata": {
        "id": "GuUSOSKegKIM"
      },
      "source": [
        "From this simplified example, you should be able to derive a full BatchNorm implementation, or any layer involving a state. To finish, let's add an optimizer to see how to play with both parameters updated by an optimizer and state variables.\n",
        "\n",
        "*This example isn't doing anything and is only for demonstration purposes.*"
      ]
    },
    {
      "cell_type": "code",
      "execution_count": 21,
      "metadata": {},
      "outputs": [
        {
          "output_type": "stream",
          "name": "stdout",
          "text": [
            "Updated state:  FrozenDict({'batch_stats': {'mean': DeviceArray([[0.01, 0.01, 0.01, 0.01, 0.01]], dtype=float32)}})\nUpdated state:  FrozenDict({'batch_stats': {'mean': DeviceArray([[0.0199, 0.0199, 0.0199, 0.0199, 0.0199]], dtype=float32)}})\nUpdated state:  FrozenDict({'batch_stats': {'mean': DeviceArray([[0.029701, 0.029701, 0.029701, 0.029701, 0.029701]], dtype=float32)}})\n"
          ]
        }
      ],
      "source": [
        "def update_step(apply_fun, x, optimizer, state):\n",
        "\n",
        "  def loss(params):\n",
        "    y, updated_state = apply_fun({'params': params, **state},\n",
        "                                 x, mutable=list(state.keys()))\n",
        "    l = ((x - y) ** 2).sum()\n",
        "    return l, updated_state\n",
        "\n",
        "  (l, updated_state), grads = jax.value_and_grad(\n",
        "      loss, has_aux=True)(optimizer.target)\n",
        "  optimizer = optimizer.apply_gradient(grads)\n",
        "  return optimizer, updated_state\n",
        "\n",
        "variables = model.init(random.PRNGKey(0), x)\n",
        "state, params = variables.pop('params')\n",
        "del variables\n",
        "optimizer = optim.sgd.GradientDescent(learning_rate=0.02).create(params)\n",
        "x = jnp.ones((10,5))\n",
        "\n",
        "for _ in range(3):\n",
        "  optimizer, state = update_step(model.apply, x, optimizer, state)\n",
        "  print('Updated state: ', state)"
      ]
    }
  ]
}